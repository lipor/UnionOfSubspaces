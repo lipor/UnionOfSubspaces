{
 "cells": [
  {
   "cell_type": "code",
   "execution_count": 8,
   "metadata": {},
   "outputs": [
    {
     "data": {
      "text/html": [
       "<script>requirejs.config({paths: { 'plotly': ['https://cdn.plot.ly/plotly-latest.min']},});if(!window.Plotly) {{require(['plotly'],function(plotly) {window.Plotly=plotly;});}}</script>"
      ],
      "text/vnd.plotly.v1+html": [
       "<script>requirejs.config({paths: { 'plotly': ['https://cdn.plot.ly/plotly-latest.min']},});if(!window.Plotly) {{require(['plotly'],function(plotly) {window.Plotly=plotly;});}}</script>"
      ]
     },
     "metadata": {},
     "output_type": "display_data"
    }
   ],
   "source": [
    "from pylab import *\n",
    "from scipy import linalg\n",
    "from plotly.offline import download_plotlyjs, init_notebook_mode, plot, iplot\n",
    "import plotly.graph_objs as go\n",
    "\n",
    "init_notebook_mode(connected=True)"
   ]
  },
  {
   "cell_type": "markdown",
   "metadata": {},
   "source": [
    "Define a function to compute subspace affinity given two bases."
   ]
  },
  {
   "cell_type": "code",
   "execution_count": 2,
   "metadata": {
    "collapsed": true
   },
   "outputs": [],
   "source": [
    "def aff(U, V):\n",
    "    D, d = U.shape\n",
    "    return linalg.norm(U.T @ V, 'fro') / sqrt(d)"
   ]
  },
  {
   "cell_type": "markdown",
   "metadata": {},
   "source": [
    "Set the problem parameters and create some data."
   ]
  },
  {
   "cell_type": "code",
   "execution_count": 3,
   "metadata": {
    "collapsed": true
   },
   "outputs": [],
   "source": [
    "D = 100\n",
    "d = 10\n",
    "K = 5\n",
    "Nk = 200"
   ]
  },
  {
   "cell_type": "code",
   "execution_count": 4,
   "metadata": {
    "collapsed": true
   },
   "outputs": [],
   "source": [
    "Ufull = empty((K,D,d))\n",
    "X = empty((D,0))\n",
    "for kk in range(K):\n",
    "    Ufull[kk,:,:] = linalg.orth(randn(D,d))\n",
    "    Xk = Ufull[kk,:,:] @ randn(d,Nk)\n",
    "    X = np.append(X, Xk, axis=1)"
   ]
  },
  {
   "cell_type": "markdown",
   "metadata": {},
   "source": [
    "Now let's assign random labels and look at the affinities of the resulting subspaces."
   ]
  },
  {
   "cell_type": "code",
   "execution_count": 5,
   "metadata": {
    "collapsed": true
   },
   "outputs": [],
   "source": [
    "estLabels = randint(K, size=K*Nk)\n",
    "Uest = empty((K,D,d))\n",
    "for kk in range(K):\n",
    "    Xk = X[:,estLabels==kk]\n",
    "    V, Uest[kk,:,:] = linalg.eigh(Xk @ Xk.T, eigvals=(D-d,D-1))\n",
    "    \n",
    "pwAff = empty((K,K))\n",
    "for jj in range(K):\n",
    "    for kk in range(K):\n",
    "        pwAff[jj,kk] = aff(Uest[jj,:,:],Uest[kk,:,:])"
   ]
  },
  {
   "cell_type": "markdown",
   "metadata": {},
   "source": [
    "Here's what we get when we look at these pairwise affinities:"
   ]
  },
  {
   "cell_type": "code",
   "execution_count": 9,
   "metadata": {},
   "outputs": [
    {
     "data": {
      "application/vnd.plotly.v1+json": {
       "data": [
        {
         "type": "heatmap",
         "z": [
          [
           0.9999999999999994,
           0.3254726134309565,
           0.3073926702795805,
           0.2807661848868148,
           0.2953702695942027
          ],
          [
           0.3254726134309565,
           0.9999999999999997,
           0.3477701021806441,
           0.29808596014432276,
           0.2756943801756217
          ],
          [
           0.30739267027958056,
           0.3477701021806441,
           1,
           0.3025012609333743,
           0.30017489368177563
          ],
          [
           0.2807661848868148,
           0.29808596014432276,
           0.3025012609333743,
           0.9999999999999997,
           0.33951586186236693
          ],
          [
           0.2953702695942027,
           0.2756943801756217,
           0.3001748936817757,
           0.33951586186236693,
           0.9999999999999996
          ]
         ],
         "zmax": 1,
         "zmin": 0
        }
       ],
       "layout": {}
      },
      "text/html": [
       "<div id=\"461d0023-e388-4764-abec-d26514bed43d\" style=\"height: 525px; width: 100%;\" class=\"plotly-graph-div\"></div><script type=\"text/javascript\">require([\"plotly\"], function(Plotly) { window.PLOTLYENV=window.PLOTLYENV || {};window.PLOTLYENV.BASE_URL=\"https://plot.ly\";Plotly.newPlot(\"461d0023-e388-4764-abec-d26514bed43d\", [{\"type\": \"heatmap\", \"z\": [[0.9999999999999994, 0.3254726134309565, 0.3073926702795805, 0.2807661848868148, 0.2953702695942027], [0.3254726134309565, 0.9999999999999997, 0.3477701021806441, 0.29808596014432276, 0.2756943801756217], [0.30739267027958056, 0.3477701021806441, 1.0, 0.3025012609333743, 0.30017489368177563], [0.2807661848868148, 0.29808596014432276, 0.3025012609333743, 0.9999999999999997, 0.33951586186236693], [0.2953702695942027, 0.2756943801756217, 0.3001748936817757, 0.33951586186236693, 0.9999999999999996]], \"zmin\": 0, \"zmax\": 1}], {}, {\"showLink\": true, \"linkText\": \"Export to plot.ly\"})});</script>"
      ],
      "text/vnd.plotly.v1+html": [
       "<div id=\"461d0023-e388-4764-abec-d26514bed43d\" style=\"height: 525px; width: 100%;\" class=\"plotly-graph-div\"></div><script type=\"text/javascript\">require([\"plotly\"], function(Plotly) { window.PLOTLYENV=window.PLOTLYENV || {};window.PLOTLYENV.BASE_URL=\"https://plot.ly\";Plotly.newPlot(\"461d0023-e388-4764-abec-d26514bed43d\", [{\"type\": \"heatmap\", \"z\": [[0.9999999999999994, 0.3254726134309565, 0.3073926702795805, 0.2807661848868148, 0.2953702695942027], [0.3254726134309565, 0.9999999999999997, 0.3477701021806441, 0.29808596014432276, 0.2756943801756217], [0.30739267027958056, 0.3477701021806441, 1.0, 0.3025012609333743, 0.30017489368177563], [0.2807661848868148, 0.29808596014432276, 0.3025012609333743, 0.9999999999999997, 0.33951586186236693], [0.2953702695942027, 0.2756943801756217, 0.3001748936817757, 0.33951586186236693, 0.9999999999999996]], \"zmin\": 0, \"zmax\": 1}], {}, {\"showLink\": true, \"linkText\": \"Export to plot.ly\"})});</script>"
      ]
     },
     "metadata": {},
     "output_type": "display_data"
    }
   ],
   "source": [
    "trace = go.Heatmap(z=pwAff, zmin=0, zmax = 1)\n",
    "iplot([trace])"
   ]
  },
  {
   "cell_type": "markdown",
   "metadata": {},
   "source": [
    "Let's compare this to what the actual affinities are for randomly drawn subspaces "
   ]
  },
  {
   "cell_type": "code",
   "execution_count": 11,
   "metadata": {},
   "outputs": [
    {
     "data": {
      "application/vnd.plotly.v1+json": {
       "data": [
        {
         "type": "heatmap",
         "z": [
          [
           0.9999999999999994,
           0.3254726134309565,
           0.3073926702795805,
           0.2807661848868148,
           0.2953702695942027
          ],
          [
           0.3254726134309565,
           0.9999999999999997,
           0.3477701021806441,
           0.29808596014432276,
           0.2756943801756217
          ],
          [
           0.30739267027958056,
           0.3477701021806441,
           1,
           0.3025012609333743,
           0.30017489368177563
          ],
          [
           0.2807661848868148,
           0.29808596014432276,
           0.3025012609333743,
           0.9999999999999997,
           0.33951586186236693
          ],
          [
           0.2953702695942027,
           0.2756943801756217,
           0.3001748936817757,
           0.33951586186236693,
           0.9999999999999996
          ]
         ],
         "zmax": 1,
         "zmin": 0
        }
       ],
       "layout": {}
      },
      "text/html": [
       "<div id=\"e1bbd3f2-b869-48ea-b5ba-593f0557a2b2\" style=\"height: 525px; width: 100%;\" class=\"plotly-graph-div\"></div><script type=\"text/javascript\">require([\"plotly\"], function(Plotly) { window.PLOTLYENV=window.PLOTLYENV || {};window.PLOTLYENV.BASE_URL=\"https://plot.ly\";Plotly.newPlot(\"e1bbd3f2-b869-48ea-b5ba-593f0557a2b2\", [{\"type\": \"heatmap\", \"z\": [[0.9999999999999994, 0.3254726134309565, 0.3073926702795805, 0.2807661848868148, 0.2953702695942027], [0.3254726134309565, 0.9999999999999997, 0.3477701021806441, 0.29808596014432276, 0.2756943801756217], [0.30739267027958056, 0.3477701021806441, 1.0, 0.3025012609333743, 0.30017489368177563], [0.2807661848868148, 0.29808596014432276, 0.3025012609333743, 0.9999999999999997, 0.33951586186236693], [0.2953702695942027, 0.2756943801756217, 0.3001748936817757, 0.33951586186236693, 0.9999999999999996]], \"zmin\": 0, \"zmax\": 1}], {}, {\"showLink\": true, \"linkText\": \"Export to plot.ly\"})});</script>"
      ],
      "text/vnd.plotly.v1+html": [
       "<div id=\"e1bbd3f2-b869-48ea-b5ba-593f0557a2b2\" style=\"height: 525px; width: 100%;\" class=\"plotly-graph-div\"></div><script type=\"text/javascript\">require([\"plotly\"], function(Plotly) { window.PLOTLYENV=window.PLOTLYENV || {};window.PLOTLYENV.BASE_URL=\"https://plot.ly\";Plotly.newPlot(\"e1bbd3f2-b869-48ea-b5ba-593f0557a2b2\", [{\"type\": \"heatmap\", \"z\": [[0.9999999999999994, 0.3254726134309565, 0.3073926702795805, 0.2807661848868148, 0.2953702695942027], [0.3254726134309565, 0.9999999999999997, 0.3477701021806441, 0.29808596014432276, 0.2756943801756217], [0.30739267027958056, 0.3477701021806441, 1.0, 0.3025012609333743, 0.30017489368177563], [0.2807661848868148, 0.29808596014432276, 0.3025012609333743, 0.9999999999999997, 0.33951586186236693], [0.2953702695942027, 0.2756943801756217, 0.3001748936817757, 0.33951586186236693, 0.9999999999999996]], \"zmin\": 0, \"zmax\": 1}], {}, {\"showLink\": true, \"linkText\": \"Export to plot.ly\"})});</script>"
      ]
     },
     "metadata": {},
     "output_type": "display_data"
    }
   ],
   "source": [
    "pwAff = empty((K,K))\n",
    "for jj in range(K):\n",
    "    for kk in range(K):\n",
    "        pwAff[jj,kk] = aff(Ufull[jj,:,:],Ufull[kk,:,:])\n",
    "        \n",
    "trace = go.Heatmap(z=pwAff, zmin=0, zmax = 1)\n",
    "iplot([trace])"
   ]
  },
  {
   "cell_type": "code",
   "execution_count": null,
   "metadata": {
    "collapsed": true
   },
   "outputs": [],
   "source": []
  }
 ],
 "metadata": {
  "kernelspec": {
   "display_name": "Python 3",
   "language": "python",
   "name": "python3"
  },
  "language_info": {
   "codemirror_mode": {
    "name": "ipython",
    "version": 3
   },
   "file_extension": ".py",
   "mimetype": "text/x-python",
   "name": "python",
   "nbconvert_exporter": "python",
   "pygments_lexer": "ipython3",
   "version": "3.6.3"
  }
 },
 "nbformat": 4,
 "nbformat_minor": 2
}
